{
 "cells": [
  {
   "cell_type": "markdown",
   "id": "b0446041",
   "metadata": {},
   "source": [
    "### Example 1 "
   ]
  },
  {
   "cell_type": "code",
   "execution_count": 35,
   "id": "d6105d89",
   "metadata": {},
   "outputs": [
    {
     "name": "stdout",
     "output_type": "stream",
     "text": [
      "Enter the string with repeated words:\n",
      "yes yes yes yes no no no\n",
      "The length of the word with the highest frequency is: 3\n"
     ]
    }
   ],
   "source": [
    "import re\n",
    "\n",
    "def highest_frequency_word_length(input_string):\n",
    "    result = []\n",
    "    words = re.findall(r'\\b\\w+\\b', input_string.lower())\n",
    "\n",
    "    word_frequency = {}  # Dictionary to store word frequencies\n",
    "\n",
    "    for word in words:\n",
    "        word_frequency[word] = word_frequency.get(word, 0) + 1\n",
    "\n",
    "    if not word_frequency:\n",
    "        return 0  # No words in the input string\n",
    "\n",
    "    # Find the word with the highest frequency\n",
    "    highest_frequency_word = max(word_frequency, key=word_frequency.get)\n",
    "    \n",
    "    result.append(highest_frequency_word)\n",
    "    result.append(len(highest_frequency_word))\n",
    "\n",
    "    # Return the length of the word with the highest frequency\n",
    "    return result\n",
    "\n",
    "\n",
    "input_string = input(\"Enter the string with repeated words:\\n\")\n",
    "\n",
    "result_final = highest_frequency_word_length(input_string)\n",
    "\n",
    "print(f\"The length of the word with the highest frequency is: {result_final[1]}\")\n",
    "\n"
   ]
  },
  {
   "cell_type": "markdown",
   "id": "890d100f",
   "metadata": {},
   "source": [
    "**Explanation** - \n",
    "\n",
    "In the above example - highest frequency word is 'yes' and its lengh is 3"
   ]
  },
  {
   "cell_type": "markdown",
   "id": "7e75163f",
   "metadata": {},
   "source": [
    "### Example 2"
   ]
  },
  {
   "cell_type": "code",
   "execution_count": 36,
   "id": "228f6da8",
   "metadata": {},
   "outputs": [
    {
     "name": "stdout",
     "output_type": "stream",
     "text": [
      "Enter the string with repeated words:\n",
      "Today is good dayyy and beautiful dayyy\n",
      "The length of the word with the highest frequency is: 5\n"
     ]
    }
   ],
   "source": [
    "import re\n",
    "\n",
    "def highest_frequency_word_length(input_string):\n",
    "    result = []\n",
    "    words = re.findall(r'\\b\\w+\\b', input_string.lower())\n",
    "\n",
    "    word_frequency = {}  # Dictionary to store word frequencies\n",
    "\n",
    "    for word in words:\n",
    "        word_frequency[word] = word_frequency.get(word, 0) + 1\n",
    "\n",
    "    if not word_frequency:\n",
    "        return 0  # No words in the input string\n",
    "\n",
    "    # Find the word with the highest frequency\n",
    "    highest_frequency_word = max(word_frequency, key=word_frequency.get)\n",
    "    \n",
    "    result.append(highest_frequency_word)\n",
    "    result.append(len(highest_frequency_word))\n",
    "\n",
    "    # Return the length of the word with the highest frequency\n",
    "    return result\n",
    "\n",
    "\n",
    "input_string = input(\"Enter the string with repeated words:\\n\")\n",
    "\n",
    "result_final = highest_frequency_word_length(input_string)\n",
    "\n",
    "print(f\"The length of the word with the highest frequency is: {result_final[1]}\")\n"
   ]
  },
  {
   "cell_type": "markdown",
   "id": "b7bf926d",
   "metadata": {},
   "source": [
    "**Explanation** - \n",
    "\n",
    "In the above example - highest frequency word is 'dayyy' (with repeated character 'y') and its lengh is 5"
   ]
  }
 ],
 "metadata": {
  "kernelspec": {
   "display_name": "Python 3 (ipykernel)",
   "language": "python",
   "name": "python3"
  },
  "language_info": {
   "codemirror_mode": {
    "name": "ipython",
    "version": 3
   },
   "file_extension": ".py",
   "mimetype": "text/x-python",
   "name": "python",
   "nbconvert_exporter": "python",
   "pygments_lexer": "ipython3",
   "version": "3.11.5"
  }
 },
 "nbformat": 4,
 "nbformat_minor": 5
}
