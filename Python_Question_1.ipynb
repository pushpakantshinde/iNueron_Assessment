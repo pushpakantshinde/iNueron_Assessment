{
 "cells": [
  {
   "cell_type": "code",
   "execution_count": 17,
   "id": "96be30f8",
   "metadata": {},
   "outputs": [
    {
     "name": "stdout",
     "output_type": "stream",
     "text": [
      "Target 100 not found in the matrix.\n"
     ]
    }
   ],
   "source": [
    "def search_in_matrix(matrix, target):\n",
    "    if not matrix or not matrix[0]:\n",
    "        return False\n",
    "\n",
    "    no_of_rows = len(matrix)\n",
    "    no_of_columns = len(matrix[0])\n",
    "    start = 0 \n",
    "    end = no_of_rows * no_of_columns - 1\n",
    "\n",
    "    while start <= end:\n",
    "        center = (start + end) // 2\n",
    "        center_value = matrix[center // no_of_columns][center % no_of_columns]\n",
    "\n",
    "        if center_value == target:\n",
    "            return True\n",
    "        elif center_value < target:\n",
    "            start = center + 1\n",
    "        else:\n",
    "            end = center - 1\n",
    "\n",
    "    return False\n",
    "\n",
    "# Example usage:\n",
    "matrix = [\n",
    "    [1, 3, 8, 10],\n",
    "    [15, 17, 21, 26],\n",
    "    [32, 40, 45, 50],\n",
    "    [55, 57, 65, 69],\n",
    "]\n",
    "target = 100\n",
    "\n",
    "result = search_in_matrix(matrix, target)\n",
    "\n",
    "if result:\n",
    "    print(f\"Target {target} found in the matrix.\")\n",
    "else:\n",
    "    print(f\"Target {target} not found in the matrix.\")\n"
   ]
  },
  {
   "cell_type": "code",
   "execution_count": null,
   "id": "638499ad",
   "metadata": {},
   "outputs": [],
   "source": []
  }
 ],
 "metadata": {
  "kernelspec": {
   "display_name": "Python 3 (ipykernel)",
   "language": "python",
   "name": "python3"
  },
  "language_info": {
   "codemirror_mode": {
    "name": "ipython",
    "version": 3
   },
   "file_extension": ".py",
   "mimetype": "text/x-python",
   "name": "python",
   "nbconvert_exporter": "python",
   "pygments_lexer": "ipython3",
   "version": "3.11.5"
  }
 },
 "nbformat": 4,
 "nbformat_minor": 5
}
